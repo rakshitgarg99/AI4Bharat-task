{
 "cells": [
  {
   "cell_type": "code",
   "execution_count": null,
   "metadata": {},
   "outputs": [],
   "source": [
    "from PIL import Image\n",
    "import pytesseract\n",
    "import sys\n",
    "from pdf2image import convert_from_path\n",
    "import os\n",
    "import pandas as pd\n",
    "import requests\n",
    "from bs4 import BeautifulSoup\n",
    "from urllib.request import urlopen"
   ]
  },
  {
   "cell_type": "code",
   "execution_count": null,
   "metadata": {},
   "outputs": [],
   "source": [
    "df = pd.read_excel(\"Data Engineer Task.xlsx\", engine='openpyxl', usecols='A', header=None)\n",
    "# df"
   ]
  },
  {
   "cell_type": "code",
   "execution_count": null,
   "metadata": {},
   "outputs": [],
   "source": [
    "import pdf2image\n",
    "try:\n",
    "    from PIL import Image\n",
    "except ImportError:\n",
    "    import Image\n",
    "import pytesseract\n",
    "\n",
    "\n",
    "def pdf_to_img(pdf_file):\n",
    "    return pdf2image.convert_from_path(pdf_file,poppler_path=r\"ADD POPPLER PATH HERE\")\n",
    "\n",
    "\n",
    "def ocr_core(file):\n",
    "    pytesseract.pytesseract.tesseract_cmd = r'ADD TESSERACT PATH HERE'\n",
    "    text = pytesseract.image_to_string(file,lang='mar')\n",
    "    return text\n",
    "\n",
    "\n",
    "def print_pages(pdf_file):\n",
    "    images = pdf_to_img(pdf_file)\n",
    "    text=[]\n",
    "    for pg, img in enumerate(images):\n",
    "        # print(ocr_core(img))\n",
    "        text.append(ocr_core(img))\n",
    "    \n",
    "    return text\n",
    "\n",
    "def download_file(url):\n",
    "    local_filename = url.split('/')[-1]\n",
    "\n",
    "    with requests.get(url) as r:\n",
    "        assert r.status_code == 200, f'error, status code is {r.status_code}'\n",
    "        with open(local_filename,'wb') as f:\n",
    "            f.write(r.content)\n",
    "\n",
    "    return local_filename"
   ]
  },
  {
   "cell_type": "code",
   "execution_count": null,
   "metadata": {},
   "outputs": [],
   "source": [
    "def extract_text(url):\n",
    "    page=url\n",
    "    source = urlopen(page).read()\n",
    "    soup = BeautifulSoup(source,'html.parser')\n",
    "    link=soup.findAll('div', {'class': 'format-group'})[1].a['href']\n",
    "\n",
    "    src = urlopen(\"https://archive.org\"+link).read()\n",
    "    text = BeautifulSoup(src,'html.parser')\n",
    "    return text.pre"
   ]
  },
  {
   "cell_type": "code",
   "execution_count": null,
   "metadata": {},
   "outputs": [],
   "source": [
    "file=[]"
   ]
  },
  {
   "cell_type": "code",
   "execution_count": null,
   "metadata": {},
   "outputs": [],
   "source": [
    "for url in df[0]:\n",
    "    dict={}\n",
    "    dict['pdf_url'] = url\n",
    "    if(url[-3:]!='pdf'):\n",
    "        try:\n",
    "            text=extract_text(url)\n",
    "            dict['pdf_content']=text\n",
    "        except:\n",
    "            dict['pdf_content']=\"\"\n",
    "    else:\n",
    "        text=print_pages(download_file(url))\n",
    "        dict['pdf_content']=text\n",
    "    \n",
    "    file.append(dict)"
   ]
  },
  {
   "cell_type": "code",
   "execution_count": null,
   "metadata": {},
   "outputs": [],
   "source": [
    "import json"
   ]
  },
  {
   "cell_type": "code",
   "execution_count": null,
   "metadata": {},
   "outputs": [],
   "source": [
    "with open(\"pdf_extract.json\", \"w\", encoding=\"utf-8\") as outfile:\n",
    "    json.dump(file, outfile, ensure_ascii=False)"
   ]
  },
  {
   "cell_type": "code",
   "execution_count": null,
   "metadata": {},
   "outputs": [],
   "source": []
  }
 ],
 "metadata": {
  "interpreter": {
   "hash": "e404b59586357c814bc0d3940e75d6763c00a48753b225b81f7716971b8e1741"
  },
  "kernelspec": {
   "display_name": "Python 3.8.6 64-bit",
   "language": "python",
   "name": "python3"
  },
  "language_info": {
   "codemirror_mode": {
    "name": "ipython",
    "version": 3
   },
   "file_extension": ".py",
   "mimetype": "text/x-python",
   "name": "python",
   "nbconvert_exporter": "python",
   "pygments_lexer": "ipython3",
   "version": "3.8.6"
  },
  "orig_nbformat": 4
 },
 "nbformat": 4,
 "nbformat_minor": 2
}
